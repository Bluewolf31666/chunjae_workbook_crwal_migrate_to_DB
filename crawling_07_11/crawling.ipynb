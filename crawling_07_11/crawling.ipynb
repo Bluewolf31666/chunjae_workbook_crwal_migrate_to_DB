{
 "cells": [
  {
   "cell_type": "code",
   "execution_count": 10,
   "metadata": {},
   "outputs": [
    {
     "name": "stdout",
     "output_type": "stream",
     "text": [
      "Requirement already satisfied: webdriver-manager in c:\\users\\db400tea\\appdata\\local\\programs\\python\\python311\\lib\\site-packages (3.8.6)\n",
      "Requirement already satisfied: requests in c:\\users\\db400tea\\appdata\\local\\programs\\python\\python311\\lib\\site-packages (from webdriver-manager) (2.31.0)\n",
      "Requirement already satisfied: python-dotenv in c:\\users\\db400tea\\appdata\\local\\programs\\python\\python311\\lib\\site-packages (from webdriver-manager) (1.0.0)\n",
      "Requirement already satisfied: tqdm in c:\\users\\db400tea\\appdata\\local\\programs\\python\\python311\\lib\\site-packages (from webdriver-manager) (4.65.0)\n",
      "Requirement already satisfied: packaging in c:\\users\\db400tea\\appdata\\roaming\\python\\python311\\site-packages (from webdriver-manager) (23.1)\n",
      "Requirement already satisfied: charset-normalizer<4,>=2 in c:\\users\\db400tea\\appdata\\local\\programs\\python\\python311\\lib\\site-packages (from requests->webdriver-manager) (3.2.0)\n",
      "Requirement already satisfied: idna<4,>=2.5 in c:\\users\\db400tea\\appdata\\local\\programs\\python\\python311\\lib\\site-packages (from requests->webdriver-manager) (3.4)\n",
      "Requirement already satisfied: urllib3<3,>=1.21.1 in c:\\users\\db400tea\\appdata\\local\\programs\\python\\python311\\lib\\site-packages (from requests->webdriver-manager) (2.0.3)\n",
      "Requirement already satisfied: certifi>=2017.4.17 in c:\\users\\db400tea\\appdata\\local\\programs\\python\\python311\\lib\\site-packages (from requests->webdriver-manager) (2023.5.7)\n",
      "Requirement already satisfied: colorama in c:\\users\\db400tea\\appdata\\roaming\\python\\python311\\site-packages (from tqdm->webdriver-manager) (0.4.6)\n",
      "Note: you may need to restart the kernel to use updated packages.\n"
     ]
    }
   ],
   "source": [
    "%pip install webdriver-manager"
   ]
  },
  {
   "cell_type": "markdown",
   "metadata": {},
   "source": [
    "Lambda+Trigger function으로 해야할듯..\n",
    "아니면  SNS SQS?"
   ]
  },
  {
   "cell_type": "code",
   "execution_count": 1,
   "metadata": {},
   "outputs": [
    {
     "name": "stdout",
     "output_type": "stream",
     "text": [
      "Collecting pymysql\n",
      "  Downloading PyMySQL-1.1.0-py3-none-any.whl (44 kB)\n",
      "                                              0.0/44.8 kB ? eta -:--:--\n",
      "     ---------------------------------------- 44.8/44.8 kB ? eta 0:00:00\n",
      "Installing collected packages: pymysql\n",
      "Successfully installed pymysql-1.1.0\n"
     ]
    }
   ],
   "source": [
    "!pip install pymysql"
   ]
  },
  {
   "cell_type": "code",
   "execution_count": 5,
   "metadata": {},
   "outputs": [],
   "source": [
    "Url_list=[147434,147376,146368,145664,145571,144916,144904,144605,144576,144468]"
   ]
  },
  {
   "cell_type": "code",
   "execution_count": 6,
   "metadata": {},
   "outputs": [
    {
     "ename": "AttributeError",
     "evalue": "module 'setting' has no attribute 'workbook_selector'",
     "output_type": "error",
     "traceback": [
      "\u001b[1;31m---------------------------------------------------------------------------\u001b[0m",
      "\u001b[1;31mAttributeError\u001b[0m                            Traceback (most recent call last)",
      "Cell \u001b[1;32mIn[6], line 18\u001b[0m\n\u001b[0;32m     15\u001b[0m chrome_options\u001b[39m.\u001b[39madd_argument(\u001b[39m'\u001b[39m\u001b[39mheadless\u001b[39m\u001b[39m'\u001b[39m)\n\u001b[0;32m     16\u001b[0m driver \u001b[39m=\u001b[39m webdriver\u001b[39m.\u001b[39mChrome(service\u001b[39m=\u001b[39mService(ChromeDriverManager()\u001b[39m.\u001b[39minstall()), options\u001b[39m=\u001b[39mchrome_options)\n\u001b[1;32m---> 18\u001b[0m X_path_for_test\u001b[39m=\u001b[39msetting\u001b[39m.\u001b[39;49mworkbook_selector\n\u001b[0;32m     19\u001b[0m html \u001b[39m=\u001b[39m driver\u001b[39m.\u001b[39mpage_source\n\u001b[0;32m     20\u001b[0m driver\u001b[39m.\u001b[39mget(setting\u001b[39m.\u001b[39mworkbook_address\u001b[39m.\u001b[39mformat(i))\n",
      "\u001b[1;31mAttributeError\u001b[0m: module 'setting' has no attribute 'workbook_selector'"
     ]
    }
   ],
   "source": [
    "from selenium.webdriver.chrome.options import Options\n",
    "from selenium import webdriver\n",
    "from webdriver_manager.chrome import ChromeDriverManager\n",
    "from PIL import Image\n",
    "from selenium.webdriver.chrome.service import Service\n",
    "import os\n",
    "from selenium.webdriver.common.by import By\n",
    "import pymysql\n",
    "import setting\n",
    "import math\n",
    "path=os.getcwd()\n",
    "\n",
    "for i in Url_list:\n",
    "    chrome_options = webdriver.ChromeOptions()\n",
    "    chrome_options.add_argument('headless')\n",
    "    driver = webdriver.Chrome(service=Service(ChromeDriverManager().install()), options=chrome_options)\n",
    "\n",
    "    X_path_for_test=setting.workbook_selector\n",
    "    html = driver.page_source\n",
    "    driver.get(setting.workbook_address.format(i))\n",
    "    driver.implicitly_wait(10)\n",
    "\n",
    "    element1 = driver.find_element(By.CSS_SELECTOR,X_path_for_test) \n",
    "    screenshot_as_bytes = element1.screenshot_as_png\n",
    "\n",
    "    with open(f'test_raw_{i}.png', 'wb') as f:\n",
    "        f.write(screenshot_as_bytes) \n",
    "\n",
    "    driver.close()\n",
    "\n",
    "    image2 = Image.open(f'test_raw_{i}.png')\n",
    "    #cropedImage=image2.crop((0,35,453,image2.size[1]))\n",
    "    image_lenght= math.ceil(image2.size[1]*(453/515))\n",
    "    cropedImage=image2.resize((453,image_lenght),Image.Resampling.LANCZOS)\n",
    "    cropedImage.save(f'croped_{i}.png','png')\n",
    "    image2.close()\n",
    "    cropedImage.close()\n",
    "    os.remove(f'test_raw_{i}.png')\n",
    "    file_name=f'croped_{i}.png'\n",
    "    full_path=path+\"\\\\\"+file_name\n",
    "    # conn = pymysql.connect(host=setting.host_address, user=setting.id, password=setting.pw, db=setting.db, charset='utf8')\n",
    "    # cur = conn.cursor()\n",
    "    # sql=\"\"\"INSERT INTO monhangdb.tb_item_capture\n",
    "    # (capture_id,item_id, width, height, img_url, create_date, `usage`)\n",
    "    # VALUES(NULL,%s, %s, %s, %s, current_timestamp(), NULL);\n",
    "    # \"\"\"\n",
    "    # vals = (i,453,image_lenght,full_path)\n",
    "    # cur.execute(sql, vals)\n",
    "    # cur.close()\n",
    "    # conn.commit()\n",
    "    # conn.close()\n",
    "\n"
   ]
  }
 ],
 "metadata": {
  "kernelspec": {
   "display_name": "Python 3",
   "language": "python",
   "name": "python3"
  },
  "language_info": {
   "codemirror_mode": {
    "name": "ipython",
    "version": 3
   },
   "file_extension": ".py",
   "mimetype": "text/x-python",
   "name": "python",
   "nbconvert_exporter": "python",
   "pygments_lexer": "ipython3",
   "version": "3.11.4"
  },
  "orig_nbformat": 4
 },
 "nbformat": 4,
 "nbformat_minor": 2
}
